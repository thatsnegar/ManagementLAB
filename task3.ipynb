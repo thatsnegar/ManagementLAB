{
 "cells": [
  {
   "cell_type": "code",
   "execution_count": 1,
   "metadata": {},
   "outputs": [],
   "source": [
    "\n",
    "import random\n",
    "from queue import PriorityQueue\n",
    "import matplotlib.pyplot as plt\n",
    "import numpy as np\n",
    "import pandas as pd"
   ]
  },
  {
   "cell_type": "code",
   "execution_count": 11,
   "metadata": {},
   "outputs": [],
   "source": [
    "# %%\n",
    "SIM_TIME = 500000\n",
    "ARRIVAL_RATE = 10.0\n",
    "SEED = 42\n",
    "BUFFER_SIZE = 6\n",
    "N_SERVERS = 3\n",
    "SERVICE_RATES = [0.2, 0.15, 0.1]  # Different speeds for servers"
   ]
  },
  {
   "cell_type": "code",
   "execution_count": null,
   "metadata": {},
   "outputs": [],
   "source": [
    "class Measure:\n",
    "    def __init__(self, n):\n",
    "        self.arr = 0\n",
    "        self.dep = 0\n",
    "        self.ut = 0\n",
    "        self.oldT = 0\n",
    "        self.delay = 0\n",
    "        self.bs = [0.0] * n\n",
    "        self.loss = 0"
   ]
  }
 ],
 "metadata": {
  "kernelspec": {
   "display_name": "Python 3",
   "language": "python",
   "name": "python3"
  },
  "language_info": {
   "codemirror_mode": {
    "name": "ipython",
    "version": 3
   },
   "file_extension": ".py",
   "mimetype": "text/x-python",
   "name": "python",
   "nbconvert_exporter": "python",
   "pygments_lexer": "ipython3",
   "version": "3.12.7"
  }
 },
 "nbformat": 4,
 "nbformat_minor": 2
}
