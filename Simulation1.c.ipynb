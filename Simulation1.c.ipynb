{
 "cells": [
  {
   "cell_type": "raw",
   "metadata": {
    "vscode": {
     "languageId": "raw"
    }
   },
   "source": [
    "# Task 1.c : Theorical consistency of simulation results \n",
    "\n",
    "Objectives:\n",
    "\n",
    "- This task evaluates wether the results obtained through simulation in task 1.a anf 1.b are consistent with the theorical expectation of an M/M/1 queue system, by the special focus on averge delay per packet.\n",
    "\n",
    "_ Theorical Background :\n",
    "\n",
    "- Arrival rate λ=0.2 packets/sec is a constant.\n",
    "- Service rate μ varied \n",
    "\n",
    "1. Average delay per packet(w) :\n",
    "\n",
    "W = 1/ μ−λ,   for μ>λ\n",
    "----------------------------------------------------\n",
    "\n",
    "2. Average number of packets in the system (L) :\n",
    "\n",
    "L = λW = λ/(μ−λ), for μ>λ\n",
    "----------------------------------------------------\n",
    "\n",
    "3. Utilization factor (ρ) :\n",
    "\n",
    "ρ = λ/μ, for μ>λ\n",
    "----------------------------------------------------\n",
    "\n",
    "\n",
    "- These formulas are valid only when the system is stable whichc is when μ>λ, and when μ≤λ => the system becomes unstable and the theorical metrics such as delay and queue size diverge to infinity.\n",
    "\n",
    "| Service Time | Service Rate (μ) | Theoretical Delay (W = 1 / (μ − λ)) | Simulated Delay | 95% Confidence Interval | Notes                          |\n",
    "|--------------|------------------|--------------------------------------|------------------|--------------------------|--------------------------------|\n",
    "| 7.0 sec      | 0.14             |  Invalid (μ < λ, unstable)          | Very high (~14,000s) | Wide (unstable)         | System overload                |\n",
    "| 5.0 sec      | 0.20             | ∞ (critical load)                    | ~600–700s         | Moderate spread          | Delay grows large              |\n",
    "| 3.0 sec      | 0.33             | ~7.69 s                              | ~8–9 s            | Very tight               | Matches theory well (stable)  |\n",
    "\n",
    "------------------------------------------------------------------------------------------------------------------------------------------------------------------\n",
    "\n",
    "-------------- Analysis of the results --------------\n",
    "\n",
    "1. μ = 0.33:\n",
    "\n",
    "- Simulation produced an average delay around 8-9 seconds, which is close to the therical prediction of 7.69 seci=onds \n",
    "This shows an strong match between the simulation and the theoretical model, in a stable state.\n",
    "\n",
    "2. μ = 0.20:\n",
    "\n",
    "- System is at crirtical load (μ = λ), and the delay approaches infinity. \n",
    "The simulation reflects this by showing high average delay and noticeable variability. but conceptually they match since the delay grows large as exepected.\n",
    "\n",
    "3. μ = 0.14:\n",
    "\n",
    "- This is a case where the server is slower than the arrival rate, leading to an unstable system. \n",
    "Theory predicts extremely high and inconsistent delay and a wide confidence interval.\n",
    "Consistent with expected instability.\n",
    "\n",
    "-------------- Conclusion --------------\n",
    "\n",
    "- The simulated results closely follow theorical expectations in all cases.\n",
    "There is minor mumeric differences which are explainable by:\n",
    "\n",
    "- Finite simulation time\n",
    "- Randomness inherent in exponential distribution\n",
    "\n",
    "- Conficence intervals clearly reflect how predictable or variable system is under differnt load conditions.\n"
   ]
  }
 ],
 "metadata": {
  "language_info": {
   "name": "python"
  }
 },
 "nbformat": 4,
 "nbformat_minor": 2
}
