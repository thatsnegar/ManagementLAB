{
 "cells": [
  {
   "cell_type": "raw",
   "metadata": {
    "vscode": {
     "languageId": "raw"
    }
   },
   "source": [
    "task #1(b) set a desired confidence level and, for one of the metrics reported in the graphs\n",
    "produced in task 1.a, show the confidence intervals of the performed measure-\n",
    "ments;\n",
    "\n",
    "- since we run the same simulation multiple time for each service rate, we can measure a metrics like average delay \n",
    "- The simulation result hace random variation, each give a slightly different delay. so instead of reporting just one number we can use a range \n",
    "- This range is the confidence interval\n",
    "\n",
    "- The 95% confidence level for instance means :\n",
    "if we repeat the whole process many time, about 95%  of those intervals would contain the true avg delay \n",
    "\n",
    "- A wider confidence level means more uncertainty => the system is unstable or heavily variable\n",
    "- A narrower confidence leverl means the simulation consisten result and the sysytem is reliable"
   ]
  },
  {
   "cell_type": "code",
   "execution_count": 18,
   "metadata": {},
   "outputs": [],
   "source": [
    "import random\n",
    "from queue import PriorityQueue\n",
    "import numpy as np\n",
    "import matplotlib.pyplot as plt\n",
    "from scipy import stats"
   ]
  },
  {
   "cell_type": "code",
   "execution_count": 10,
   "metadata": {},
   "outputs": [],
   "source": [
    "# Constants\n",
    "\n",
    "SERVICE = 10.0 # SERVICE is the average service time; service rate = 1/SERVICE\n",
    "ARRIVAL = 5.0 # ARRIVAL is the average inter-arrival time; arrival rate = 1/ARRIVAL\n",
    "LOAD=SERVICE/ARRIVAL # This relationship holds for M/M/1\n",
    "TYPE1 = 1 \n",
    "SIM_TIME = 100000 # Simulation time\n",
    "REPEAT = 30 # Number of repetitions for each service rate\n",
    "CONFIDENCE = 0.95 # Confidence level(95%)\n",
    "SERVICE_TIMES = [3.0,5.0,7.0] # Different average service times (1/μ)\n",
    "Service_rates = [1.0 /s for s in SERVICE_TIMES]  #  μ values for the x-axis \n",
    "arrivals=0\n",
    "users=0\n",
    "BusyServer=False # True: server is currently busy; False: server is currently idle\n",
    "MM1=[]"
   ]
  },
  {
   "cell_type": "code",
   "execution_count": 11,
   "metadata": {},
   "outputs": [],
   "source": [
    "# Measurment class\n",
    "\n",
    "class Measure:\n",
    "    def __init__(self,Narr,Ndep,NAveraegUser,OldTimeEvent,AverageDelay):\n",
    "        self.arr = Narr\n",
    "        self.dep = Ndep\n",
    "        self.ut = NAveraegUser\n",
    "        self.oldT = OldTimeEvent\n",
    "        self.delay = AverageDelay\n"
   ]
  },
  {
   "cell_type": "code",
   "execution_count": 12,
   "metadata": {},
   "outputs": [],
   "source": [
    "# Clients \n",
    "\n",
    "class Client:\n",
    "    def __init__(self,type,arrival_time):\n",
    "        self.type = type\n",
    "        self.arrival_time = arrival_time"
   ]
  },
  {
   "cell_type": "code",
   "execution_count": 13,
   "metadata": {},
   "outputs": [],
   "source": [
    "# Server\n",
    "\n",
    "class Server(object):\n",
    "\n",
    "    # constructor\n",
    "    def __init__(self):\n",
    "\n",
    "        # whether the server is idle or not\n",
    "        self.idle = True\n"
   ]
  },
  {
   "cell_type": "code",
   "execution_count": 14,
   "metadata": {},
   "outputs": [],
   "source": [
    "def arrival(time, FES, queue, SERVICE,ARRIVAL, data):\n",
    "    global users\n",
    "    \n",
    "    #print(\"Arrival no. \",data.arr+1,\" at time \",time,\" with \",users,\" users\" )\n",
    "    \n",
    "    # cumulate statistics\n",
    "    data.arr += 1\n",
    "    data.ut += users*(time-data.oldT)\n",
    "    data.oldT = time\n",
    "\n",
    "    # sample the time until the next event\n",
    "    inter_arrival = random.expovariate(lambd=1.0/ARRIVAL)\n",
    "    \n",
    "    # schedule the next arrival\n",
    "    FES.put((time + inter_arrival, \"arrival\"))\n",
    "\n",
    "    users += 1\n",
    "    \n",
    "    # create a record for the client\n",
    "    client = Client(TYPE1,time)\n",
    "\n",
    "    # insert the record in the queue\n",
    "    queue.append(client)\n",
    "\n",
    "    # if the server is idle start the service\n",
    "    if users==1:\n",
    "        \n",
    "        # sample the service time\n",
    "        service_time = random.expovariate(1.0/SERVICE)\n",
    "        #service_time = 1 + random.uniform(0, SEVICE_TIME)\n",
    "\n",
    "        # schedule when the client will finish the server\n",
    "        FES.put((time + service_time, \"departure\"))"
   ]
  },
  {
   "cell_type": "code",
   "execution_count": 15,
   "metadata": {},
   "outputs": [],
   "source": [
    "def departure(time, FES, queue,SERVICE, data):\n",
    "    global users\n",
    "\n",
    "    #print(\"Departure no. \",data.dep+1,\" at time \",time,\" with \",users,\" users\" )\n",
    "        \n",
    "    # cumulate statistics\n",
    "    data.dep += 1\n",
    "    data.ut += users*(time-data.oldT)\n",
    "    data.oldT = time\n",
    "    \n",
    "    # get the first element from the queue\n",
    "    client = queue.pop(0)\n",
    "    \n",
    "    # do whatever we need to do when clients go away\n",
    "    \n",
    "    data.delay += (time-client.arrival_time)\n",
    "    users -= 1\n",
    "    \n",
    "    # see whether there are more clients to in the line\n",
    "    if users >0:\n",
    "        # sample the service time\n",
    "        service_time = random.expovariate(1.0/SERVICE)\n",
    "\n",
    "        # schedule when the client will finish the server\n",
    "        FES.put((time + service_time, \"departure\"))\n",
    "\n",
    "        "
   ]
  },
  {
   "cell_type": "code",
   "execution_count": 16,
   "metadata": {},
   "outputs": [],
   "source": [
    "# Simulation Function\n",
    "def run_simulation(SERVICE, ARRIVAL, SIM_TIME):\n",
    "    global users\n",
    "    users = 0\n",
    "    queue = []\n",
    "    data = Measure(0, 0, 0, 0, 0)\n",
    "\n",
    "    FES = PriorityQueue()\n",
    "    FES.put((0, \"arrival\"))\n",
    "    time = 0\n",
    "\n",
    "    while time < SIM_TIME:\n",
    "        (time, event_type) = FES.get()\n",
    "        if event_type == \"arrival\":\n",
    "            arrival(time, FES, queue, SERVICE, ARRIVAL, data)\n",
    "        elif event_type == \"departure\":\n",
    "            departure(time, FES, queue, SERVICE, data)\n",
    "\n",
    "    avg_delay = data.delay / data.dep if data.dep > 0 else 0\n",
    "    return avg_delay\n"
   ]
  },
  {
   "cell_type": "code",
   "execution_count": 19,
   "metadata": {},
   "outputs": [],
   "source": [
    "# Run Simulation for each service time and compute confidemce intervals\n",
    "mean_delays = []\n",
    "ci_lowers = []\n",
    "ci_uppers = []\n",
    "\n",
    "for service_time in SERVICE_TIMES:\n",
    "    delays = [run_simulation(service_time, ARRIVAL, SIM_TIME) for _ in range(REPEAT)]\n",
    "    mean = np.mean(delays)\n",
    "    std = np.std(delays, ddof=1)\n",
    "    z = stats.norm.ppf(1 - (1 - CONFIDENCE) / 2)\n",
    "    margin = z * std / np.sqrt(REPEAT)\n",
    "\n",
    "    mean_delays.append(mean)\n",
    "    ci_lowers.append(mean - margin)\n",
    "    ci_uppers.append(mean + margin)"
   ]
  },
  {
   "cell_type": "code",
   "execution_count": 21,
   "metadata": {},
   "outputs": [
    {
     "data": {
      "image/png": "[encoded data removed]",
      "text/plain": [
       "<Figure size 640x480 with 1 Axes>"
      ]
     },
     "metadata": {},
     "output_type": "display_data"
    }
   ],
   "source": [
    "# plot : Average Dely with confidence intervals\n",
    "mus = [1/s for s in SERVICE_TIMES]  # μ values\n",
    "errors = [mean - low for mean, low in zip(mean_delays, ci_lowers)]\n",
    "\n",
    "plt.figure()\n",
    "plt.errorbar(mus, mean_delays, yerr=errors, fmt='o-', capsize=5)\n",
    "plt.xlabel(\"Service Rate (μ)\")\n",
    "plt.ylabel(\"Average Delay per Packet\")\n",
    "plt.title(\"Average Delay with 95% Confidence Interval\")\n",
    "plt.grid(True)\n",
    "plt.show()\n"
   ]
  },
  {
   "cell_type": "raw",
   "metadata": {
    "vscode": {
     "languageId": "raw"
    }
   },
   "source": [
    "\n",
    "**** change the seed \n",
    "*** confidence level => compute it seperate for each service rate\n",
    "\n",
    "--------------------- Objective ---------------------\n",
    "Impact of service rate on packet delay with confidence intervals \n",
    "\n",
    "- we want to know how varying the service rate μ effects the avg packet delay in M/M/1 qeuing system, and to asseess the uncertainty of the estimaes using 95% confience intervals \n",
    "\n",
    "--------------------- Parameters ---------------------\n",
    "same as the part a + :\n",
    "\n",
    "- confidence level = 95%(z ≈ 1.96)\n",
    "repetition per case = 30 independent simulations\n",
    "\n",
    "--------------------- Graph ---------------------\n",
    "Service time = 7 sec => service rate = 0.14 => avg delay = (~14,000s) => 95% Confidence Interval = Wide (unstable)\n",
    "--------------------------------------------------------------------------------------------------------------------\n",
    "Service time = 5 sec => service rate = 0.20 => avg delay = (~600–700s) => 95% Confidence Interval = noticeable spread \n",
    "--------------------------------------------------------------------------------------------------------------------\n",
    "Service time = 3 sec => service rate = 0.33 => avg delay = (~10–20s) => 95% Confidence Interval = very narrow\n",
    "--------------------------------------------------------------------------------------------------------------------\n",
    "\n",
    "--------------------- Conclusion ---------------------\n",
    "\n",
    "- Delay grows rapidly as service rate approaches or falls below the arrival rate\n",
    "- Faster servers ensure stable and low-delay performance\n",
    "- Confidence intervals add credibility to the simulation by showing how vary results are\n",
    "- We always go for the μ > λ because it is crucial to avoid unpredictability \n"
   ]
  }
 ],
 "metadata": {
  "kernelspec": {
   "display_name": "Python 3",
   "language": "python",
   "name": "python3"
  },
  "language_info": {
   "codemirror_mode": {
    "name": "ipython",
    "version": 3
   },
   "file_extension": ".py",
   "mimetype": "text/x-python",
   "name": "python",
   "nbconvert_exporter": "python",
   "pygments_lexer": "ipython3",
   "version": "3.12.7"
  }
 },
 "nbformat": 4,
 "nbformat_minor": 2
}
